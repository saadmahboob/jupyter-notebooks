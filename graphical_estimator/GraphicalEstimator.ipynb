{
 "cells": [
  {
   "cell_type": "markdown",
   "metadata": {},
   "source": [
    "# Graphical Estimators\n",
    "-------------------------------------\n",
    "\n",
    "With the explosive success of neural networks over the past few years, we often forget one these models' major drawbacks - **lacking interpretability**.\n",
    "\n",
    "In genomics, classifying genes responsible for cancerous cells is one of the most sought after problems. However, understanding *how* and *why* a model learns to predict the way it does is as important as the predictions themselves. \n",
    "\n",
    "Business analytics and marketing intelligence is yet another field where interpretability of predictions often takes central role. Moreover, domain knowledge of a particular market often calls for a specification of dependancies between various variables. Encoding such dependancies in a neural network is not a simple task. \n",
    "\n",
    "In this tutorial, we will construct a new type of estimator that addresses both the issue of interpretability and specification of dependancies among variables."
   ]
  },
  {
   "cell_type": "code",
   "execution_count": 1,
   "metadata": {
    "collapsed": true
   },
   "outputs": [],
   "source": [
    "# import modules we will be using\n",
    "import numpy as np\n",
    "import pandas as pd\n",
    "import networkx as nx\n",
    "\n",
    "# We will use grid searching capabilities provided\n",
    "# by scikit-learn as an inner operation of our own\n",
    "# grid searcher.\n",
    "from sklearn.model_selection import GridSearchCV\n",
    "from sklearn.model_selection import KFold\n",
    "\n",
    "# Our graphical model will be able to select the best of these estimators\n",
    "# for each set of input_nodes -> output_node pairs.\n",
    "from sklearn.ensemble import RandomForestRegressor, AdaBoostRegressor\n",
    "from sklearn.linear_model import LinearRegression\n",
    "from sklearn.tree import DecisionTreeRegressor\n",
    "from xgboost import XGBRegressor # The almighty extreme gradient boost algorithm\n",
    "\n",
    "# A utility module that allows dictionary access\n",
    "# through dot notaion (i.e., print(dictionary.key))\n",
    "from dotmap import DotMap"
   ]
  },
  {
   "cell_type": "markdown",
   "metadata": {},
   "source": [
    "## Model Architecture\n",
    "------------------------------\n",
    "\n",
    "The simplest way to understanding how graphical estimators are structures is by example. Let's first look at a simple model.\n",
    "\n",
    "### Case 1\n",
    "\n",
    "![Basic](basic.png)\n",
    "\n",
    "This graph defines a variable $Z$, with dependancies $X$ and $Y$. Note that $X$ and $Y$ are independent variables with their respective _observed_ data sets. We will refer to variables as _nodes_ in the context of the graphical estimator. Node $Z$ will contain an _observed_ data set, as well as an estimator to generate predictions based on the **active path** $(X, Y) \\rightarrow Z$.\n",
    "\n",
    "Suppose we query the graph for the node $Z$. Since none of its dependancies are modified, the graph outputs the observed data set of $Z$. No inference is required. The _active path_ of the query is just $Z$. However, if for example, the data set of $X$ is modified, then node $Z$ will rely on it's estimator to predict the output from the combination of the the modified data of $X$ and the observed data of $Y$. In such a scenario, the _active path_ established by querying the graph for $Z$ changes from $Z$ to $(X_{modified}, Y) \\rightarrow Z$.\n",
    "\n",
    "Let's now look at a slighly larger graph.\n",
    "\n",
    "### Case 2\n",
    "\n",
    "![Harder](harder.png)\n",
    "\n",
    "The graph on the left is queried for node $O$. The data set of node $K$ is modified up the initiation of the query. Since $K$ is provided a new input data, the active path does not include any of the ancestors of $K$. $O$'s estimator is used to combine the observed data of $W$ and the modified data of $K$ to predict $O$. The active path is $(W, K_{modified}) \\rightarrow O$.\n",
    "\n",
    "The graph on the right is also queried for node $O$. This time however, the top level node $X$ is modified, activating the estimators of all of it's descendants. First, $W$ is predicted from $X$ and $Y$. $O$ is then predicted from $W_{predicted}$ and $K$. Note that in this query $K$ is not dependent on $Z$. The active path here is $((X, Y) \\rightarrow W, K) \\rightarrow O$."
   ]
  },
  {
   "cell_type": "markdown",
   "metadata": {},
   "source": [
    "## MetaGridSearchCV\n",
    "-----------------------------\n",
    "\n",
    "With a large number of potential interactions between nodes, it may be time consuming to handcraft models for each input/output interaction. We define a grid search mechanism that adds a space of estimators as a hyperparameter to be tuned."
   ]
  },
  {
   "cell_type": "code",
   "execution_count": 59,
   "metadata": {
    "collapsed": true
   },
   "outputs": [],
   "source": [
    "class MetaGridSearchCV(object):\n",
    "    \"\"\"A hyper parameter tuning mechanism that accepts estimators as hyperparameters.\"\"\"\n",
    "    def __init__(self, estimators):\n",
    "        self.estimators = estimators\n",
    "        self.best_estimator_ = None\n",
    "        self.best_score_ = None\n",
    "        self.active_estimator_ = None\n",
    "\n",
    "    def fit(self, features, labels, verbose=False):\n",
    "        for estimator in self.estimators:\n",
    "            clf = GridSearchCV(\n",
    "                    estimator.model,\n",
    "                    estimator.grid, # grid of hyperparameters for this `estimator.model`\n",
    "                    verbose=verbose,\n",
    "            )\n",
    "\n",
    "            clf.fit(features, labels)\n",
    "            estimator.model = clf.best_estimator_\n",
    "\n",
    "            if self.best_score_ is None or clf.best_score_ < self.best_score_:\n",
    "                self.best_score_ = clf.best_score_\n",
    "                self.best_estimator_ = estimator\n",
    "                self.active_estimator_ = estimator\n",
    "                \n",
    "                if verbose:\n",
    "                    print('New best estimator:', estimator.name)\n",
    "\n",
    "    def predict(self, X):\n",
    "        \"\"\"Make predictions using the active estimator's model.\"\"\"\n",
    "        predictions = self.active_estimator_.model.predict(X)\n",
    "        # Need the result to have ndim 2. \n",
    "        # scikit-learn's fit function wants dim 1 vector labels...arrrr\n",
    "        predictions = predictions.reshape((-1, 1))\n",
    "        \n",
    "        return predictions"
   ]
  },
  {
   "cell_type": "markdown",
   "metadata": {},
   "source": [
    "For the sake of this example, we define a few estimators that will form the estimator space. Note that the hyperparameters of each model are specified for keep this tutorial clean."
   ]
  },
  {
   "cell_type": "code",
   "execution_count": 60,
   "metadata": {
    "collapsed": true
   },
   "outputs": [],
   "source": [
    "XGBHyperRegressor = DotMap()\n",
    "XGBHyperRegressor.model = XGBRegressor()\n",
    "XGBHyperRegressor.grid = {\n",
    "            'learning_rate': [0.01, 0.03, 0.1, 0.3],\n",
    "}\n",
    "XGBHyperRegressor.name = 'XGBHyperRegressor'\n",
    "\n",
    "RandomForestHyperRegressor = DotMap()\n",
    "RandomForestHyperRegressor.model = RandomForestRegressor()\n",
    "RandomForestHyperRegressor.grid = {\n",
    "            'n_estimators': [600, 800, 1000],\n",
    "}\n",
    "RandomForestHyperRegressor.name = 'RandomForestHyperRegressor'\n",
    "\n",
    "LinearHyperRegression = DotMap()\n",
    "LinearHyperRegression.model = LinearRegression()\n",
    "LinearHyperRegression.grid = {}\n",
    "LinearHyperRegression.name = 'LinearHyperRegression'\n",
    "\n",
    "AdaBoostHyperRegressor = DotMap()\n",
    "AdaBoostHyperRegressor.model = AdaBoostRegressor()\n",
    "AdaBoostHyperRegressor.grid = {\n",
    "        'base_estimator': [\n",
    "            RandomForestRegressor(),\n",
    "            DecisionTreeRegressor()\n",
    "        ],\n",
    "        'n_estimators': [50, 100, 200, 500],\n",
    "        'learning_rate': [0.01, 0.03, 0.1, 0.3]\n",
    "}\n",
    "AdaBoostHyperRegressor.name = 'AdaBoostHyperRegressor'"
   ]
  },
  {
   "cell_type": "markdown",
   "metadata": {},
   "source": [
    "Equipped with _MetaGridSearchCV_, we are ready to define our graph estimator."
   ]
  },
  {
   "cell_type": "code",
   "execution_count": 61,
   "metadata": {
    "collapsed": true
   },
   "outputs": [],
   "source": [
    "class PGraph(nx.DiGraph):\n",
    "    \"\"\"Implementation of a graphical estimator.\"\"\"\n",
    "          \n",
    "    def query(self, node, mod_dict={}):\n",
    "        \"\"\"Query the graph for the output of `node`.\"\"\"\n",
    "        \n",
    "        modified = mod_dict.keys()\n",
    "        \n",
    "        def query_recursive(node):\n",
    "            if node in modified:\n",
    "                return mod_dict[node]\n",
    "            elif not nx.ancestors(self, node).intersection(modified):\n",
    "                return self.node[node]['observed']\n",
    "            else:\n",
    "                features = [query_recursive(predecessor) for \\\n",
    "                            predecessor in self.predecessors(node)]\n",
    "                # Stack the features column wise, forming the input \n",
    "                # vectors for this node.\n",
    "                features = np.concatenate(features, axis=1)\n",
    "                \n",
    "                return self.node[node]['meta_grid'].predict(features)\n",
    "\n",
    "        return query_recursive(node)\n",
    "\n",
    "    def fit(self, nodes=None, verbose=False):\n",
    "        \"\"\"Train `nodes`' estimators.\n",
    "        \n",
    "        If `nodes` in None, all the nodes in the graph are trained.\n",
    "        \"\"\"\n",
    "        if nodes is None:\n",
    "            nodes = self.nodes()\n",
    "\n",
    "        for node in nodes:\n",
    "            features = [self.node[predecessor]['observed'] for \\\n",
    "                        predecessor in self.predecessors(node)]\n",
    "            \n",
    "            # top level nodes don't have any predecessors, so there is nothing\n",
    "            # to train for top level nodes.\n",
    "            if features:\n",
    "                \n",
    "                # Stack the features column wise, forming the input \n",
    "                # vectors for this node.\n",
    "                features = np.concatenate(features, axis=1)\n",
    "                \n",
    "                grid = MetaGridSearchCV(self.node[node]['models'])\n",
    "                if verbose:\n",
    "                    print('Fitting node:', node)\n",
    "                # Scikit-learn gridsearchcv complains if the labels are not rank 1...\n",
    "                grid.fit(features, self.node[node]['observed'].ravel(), verbose=verbose)\n",
    "        \n",
    "                # save the best model\n",
    "                self.node[node]['meta_grid'] = grid"
   ]
  },
  {
   "cell_type": "markdown",
   "metadata": {},
   "source": [
    "## Example\n",
    "----------------\n",
    "\n",
    "**Scenario**: Image you are a company that has an annual marketing budget distributed over two channels: _TV_ and _Radio_. These drive people to your website, and you keep track of these _Sessions_. Some of your web site visitors are impressed with your product and some of the _Sessions_ turn into _Orders_. The question you would like to answer is: **what is the response rate of _Orders_ if I modify _TV_ spend?**\n",
    "\n",
    "Here is what the graph estimator and the active path look like for this scenario\n",
    "\n",
    "![example](example.png)"
   ]
  },
  {
   "cell_type": "code",
   "execution_count": 62,
   "metadata": {
    "collapsed": false
   },
   "outputs": [
    {
     "name": "stdout",
     "output_type": "stream",
     "text": [
      "Fitting node: sessions\n",
      "Fitting 3 folds for each of 1 candidates, totalling 3 fits\n",
      "New best estimator: LinearHyperRegression\n",
      "Fitting 3 folds for each of 3 candidates, totalling 9 fits\n"
     ]
    },
    {
     "name": "stderr",
     "output_type": "stream",
     "text": [
      "[Parallel(n_jobs=1)]: Done   3 out of   3 | elapsed:    0.0s finished\n",
      "[Parallel(n_jobs=1)]: Done   9 out of   9 | elapsed:   40.9s finished\n"
     ]
    },
    {
     "name": "stdout",
     "output_type": "stream",
     "text": [
      "New best estimator: RandomForestHyperRegressor\n",
      "Fitting node: orders\n",
      "Fitting 3 folds for each of 32 candidates, totalling 96 fits\n"
     ]
    },
    {
     "name": "stderr",
     "output_type": "stream",
     "text": [
      "[Parallel(n_jobs=1)]: Done  96 out of  96 | elapsed:  8.2min finished\n"
     ]
    },
    {
     "name": "stdout",
     "output_type": "stream",
     "text": [
      "New best estimator: AdaBoostHyperRegressor\n",
      "Fitting 3 folds for each of 4 candidates, totalling 12 fits\n"
     ]
    },
    {
     "name": "stderr",
     "output_type": "stream",
     "text": [
      "[Parallel(n_jobs=1)]: Done  12 out of  12 | elapsed:    0.6s finished\n"
     ]
    }
   ],
   "source": [
    "from sklearn.preprocessing import RobustScaler\n",
    "\n",
    "# ==================================================== Create a toy dataset ====================================================\n",
    "NUM_EXAMPLES = 5000\n",
    "\n",
    "# Note that the graphical estimators requires the data two have rank at least 2\n",
    "# in order to stack data of parent nodes horizontally when running a query on a node.\n",
    "tv_spend = np.random.rand(NUM_EXAMPLES, 1)\n",
    "radio_spend = np.random.rand(NUM_EXAMPLES, 1)\n",
    "sessions = 0.7*tv_spend + 0.4*radio_spend + np.random.rand(NUM_EXAMPLES, 1) # Approximately linear function of spends\n",
    "orders = 3*sessions**0.5 + np.random.rand(NUM_EXAMPLES, 1) # Approximately square root function of sessions\n",
    "\n",
    "# ================================================ Create a graphical estimator ================================================\n",
    "PG = PGraph()\n",
    "\n",
    "PG.add_node('tv_spend', observed=tv_spend)\n",
    "PG.add_node('radio_spend', observed=radio_spend)\n",
    "PG.add_node('sessions', observed=sessions, models=[LinearHyperRegression, RandomForestHyperRegressor])\n",
    "PG.add_node('orders', observed=orders, models=[AdaBoostHyperRegressor, XGBHyperRegressor])\n",
    "\n",
    "# ================================================ Specify the graph dependencies ==============================================\n",
    "PG.add_edges_from([('tv_spend', 'sessions'), ('radio_spend', 'sessions'), ('sessions', 'orders')])\n",
    "\n",
    "                      \n",
    "# ======================================================= Train the model ======================================================\n",
    "PG.fit(verbose=True)"
   ]
  },
  {
   "cell_type": "code",
   "execution_count": 75,
   "metadata": {
    "collapsed": false
   },
   "outputs": [
    {
     "data": {
      "image/png": "[encoded data removed]",
      "text/plain": [
       "<matplotlib.figure.Figure at 0x1cb2970d0b8>"
      ]
     },
     "metadata": {},
     "output_type": "display_data"
    }
   ],
   "source": [
    "# We can verify our graph architecture using\n",
    "# native plotting in networkx\n",
    "import matplotlib.pyplot as plt\n",
    "\n",
    "f, ax = plt.subplots(1)\n",
    "nx.draw(PG, ax=ax, with_labels=True)\n",
    "plt.show()"
   ]
  },
  {
   "cell_type": "markdown",
   "metadata": {},
   "source": [
    "Lets start modifying _TV_ spending and plot the response rate of _Orders_."
   ]
  },
  {
   "cell_type": "code",
   "execution_count": 69,
   "metadata": {
    "collapsed": false
   },
   "outputs": [
    {
     "data": {
      "image/png": "[encoded data removed]",
      "text/plain": [
       "<matplotlib.figure.Figure at 0x1cb292b97b8>"
      ]
     },
     "metadata": {},
     "output_type": "display_data"
    }
   ],
   "source": [
    "# ================================================ Linear percent inc./dec. space ==============================================\n",
    "percent = np.linspace(-0.5, 0.5, num=50)\n",
    "base = np.sum(PG.node['orders']['observed'])\n",
    "target = PG.node['orders']\n",
    "\n",
    "for estimator in target['meta_grid'].estimators:\n",
    "    target['meta_grid'].active_estimator_ = estimator\n",
    "    percent_changes = []\n",
    "\n",
    "    for p in percent:\n",
    "        pred = PG.query('orders', mod_dict={\n",
    "            'tv_spend':  (1 + p) * PG.node['tv_spend']['observed'],\n",
    "        })\n",
    "        percent_changes.append((np.sum(pred) - base) / base)\n",
    "    plt.plot(percent, percent_changes, label=estimator.name)\n",
    "\n",
    "plt.title('Response rate of orders to modifications in tv spend')\n",
    "plt.xlabel('%')\n",
    "plt.ylabel('%')\n",
    "plt.legend(loc='best')\n",
    "plt.show()"
   ]
  }
 ],
 "metadata": {
  "anaconda-cloud": {},
  "kernelspec": {
   "display_name": "Python [conda env:Anaconda3]",
   "language": "python",
   "name": "conda-env-Anaconda3-py"
  },
  "language_info": {
   "codemirror_mode": {
    "name": "ipython",
    "version": 3
   },
   "file_extension": ".py",
   "mimetype": "text/x-python",
   "name": "python",
   "nbconvert_exporter": "python",
   "pygments_lexer": "ipython3",
   "version": "3.5.2"
  }
 },
 "nbformat": 4,
 "nbformat_minor": 1
}
