{
 "cells": [
  {
   "cell_type": "markdown",
   "metadata": {},
   "source": [
    "# Dimensionality Reduction with Entropy\n",
    "\n",
    "In this tutorial we consider the problem of reducing the number of features in a data set by selecting the most _informative_ features with respect to the target."
   ]
  },
  {
   "cell_type": "code",
   "execution_count": 12,
   "metadata": {},
   "outputs": [],
   "source": [
    "import numpy as np\n",
    "import pandas as pd\n",
    "%matplotlib inline\n",
    "import matplotlib.pyplot as plt\n",
    "\n",
    "plt.rcParams['figure.figsize'] = (16, 10)"
   ]
  },
  {
   "cell_type": "markdown",
   "metadata": {},
   "source": [
    "We will be working with the [Mushroom Data Set](https://archive.ics.uci.edu/ml/datasets/mushroom).\n",
    "\n",
    "1. Number of Instances: 8124\n",
    "\n",
    "2. Number of Attributes: 22 (all nominally valued)\n",
    "\n",
    "3. Attribute Information: (classes: edible=e, poisonous=p)\n",
    "     1. cap-shape:                bell=b,conical=c,convex=x,flat=f,knobbed=k,sunken=s\n",
    "     2. cap-surface:              fibrous=f,grooves=g,scaly=y,smooth=s\n",
    "     3. cap-color:                brown=n,buff=b,cinnamon=c,gray=g,green=r,pink=p,purple=u,red=e,white=w,yellow=y\n",
    "     4. bruises?:                 bruises=t,no=f\n",
    "     5. odor:                     almond=a,anise=l,creosote=c,fishy=y,foul=f,musty=m,none=n,pungent=p,spicy=s\n",
    "     6. gill-attachment:          attached=a,descending=d,free=f,notched=n\n",
    "     7. gill-spacing:             close=c,crowded=w,distant=d\n",
    "     8. gill-size:                broad=b,narrow=n\n",
    "     9. gill-color:            black=k,brown=n,buff=b,chocolate=h,gray=g,green=r,orange=o,pink=p,purple=u,red=e,white=w,yellow=y\n",
    "    10. stalk-shape:              enlarging=e,tapering=t\n",
    "    11. stalk-root:               bulbous=b,club=c,cup=u,equal=e,rhizomorphs=z,rooted=r,missing=?\n",
    "    12. stalk-surface-above-ring: fibrous=f,scaly=y,silky=k,smooth=s\n",
    "    13. stalk-surface-below-ring: fibrous=f,scaly=y,silky=k,smooth=s\n",
    "    14. stalk-color-above-ring:   brown=n,buff=b,cinnamon=c,gray=g,orange=o,pink=p,red=e,white=w,yellow=y\n",
    "    15. stalk-color-below-ring:   brown=n,buff=b,cinnamon=c,gray=g,orange=o,pink=p,red=e,white=w,yellow=y\n",
    "    16. veil-type:                partial=p,universal=u\n",
    "    17. veil-color:               brown=n,orange=o,white=w,yellow=y\n",
    "    18. ring-number:              none=n,one=o,two=t\n",
    "    19. ring-type:                cobwebby=c,evanescent=e,flaring=f,large=l,none=n,pendant=p,sheathing=s,zone=z\n",
    "    20. spore-print-color:        black=k,brown=n,buff=b,chocolate=h,green=r,orange=o,purple=u,white=w,yellow=y\n",
    "    21. population:               abundant=a,clustered=c,numerous=n,scattered=s,several=v,solitary=y\n",
    "    22. habitat:                  grasses=g,leaves=l,meadows=m,paths=p,urban=u,waste=w,woods=d\n",
    "\n",
    "4. Missing Attribute Values: 2480 of them (denoted by \"?\"), all for\n",
    "   attribute #11.\n",
    "\n",
    "5. Class Distribution: \n",
    "    --    edible: 4208 (51.8%)\n",
    "    -- poisonous: 3916 (48.2%)\n",
    "    --     total: 8124 instances"
   ]
  },
  {
   "cell_type": "code",
   "execution_count": 13,
   "metadata": {},
   "outputs": [],
   "source": [
    "data = pd.read_csv('data/agaricus-lepiota.data')\n",
    "# Missing values in the data set are marked as '?'\n",
    "data = data.replace('?', np.NaN)\n",
    "data = data.dropna()"
   ]
  },
  {
   "cell_type": "code",
   "execution_count": 14,
   "metadata": {},
   "outputs": [],
   "source": [
    "features = data.iloc[:, 1:]\n",
    "labels = data.iloc[:, 0]\n",
    "\n",
    "# Very crude and inefficient way to convert to numeric data.\n",
    "# Will do for the purposes of this tutorial.\n",
    "vord = np.vectorize(ord)\n",
    "features = features.apply(vord)\n",
    "labels = labels.apply(vord)"
   ]
  },
  {
   "cell_type": "markdown",
   "metadata": {},
   "source": [
    "One way to measure how informative a feature is with respect to the target is to measure how well the feature segments the data.\n",
    "\n",
    "For example, consider the following data\n",
    "\n",
    "| Color             | Shape         | Target  |\n",
    "| ------------------|:-------------:| -----:|\n",
    "| Green             | Square        | 2 |\n",
    "| Red               | Circle        | 1 |\n",
    "| Red               | Triangle      | 1 |\n",
    "| Green             | Triangle      | 2 |\n",
    "| Green             | Circle        | 2 |\n",
    "| Red               | Square        | 1 |\n",
    "\n",
    "Let's sort our data by _Color_ to understand how informative the feature is of _Target_.\n",
    "\n",
    "| Color             | Shape         | Target  |\n",
    "| ------------------|:-------------:| -----:|\n",
    "| Red               | Circle        | 1 |\n",
    "| Red               | Triangle      | 1 |\n",
    "| Red               | Square        | 1 |\n",
    "| Green             | Triangle      | 2 |\n",
    "| Green             | Square        | 2 |\n",
    "| Green             | Circle        | 2 |\n",
    "\n",
    "We can see that all the _Red_ samples have _Target_ value of 1, while all the _Green_ samples have _Target_ value of 2. In other words, _Color_ perfectly describes our _Target_. \n",
    "Let's compare this to the purity of the data sorted by _Shape._\n",
    "\n",
    "| Color             | Shape         | Target  |\n",
    "| ------------------|:-------------:| -----:|\n",
    "| Red               | Circle        | 1 |\n",
    "| Green             | Circle        | 2 |\n",
    "| Red               | Triangle      | 1 |\n",
    "| Green             | Triangle      | 2 |\n",
    "| Green             | Square        | 2 |\n",
    "| Red               | Square        | 1 |\n",
    "\n",
    "Notice that all three geometric shapes may have a _Target_ value of 1 or 2. Thus, in some sense, _Color_ carries more information about _Target_ than _Shape_ does. \n",
    "\n",
    "We introduce the first building block towards formalizing the notion of feature informativeness."
   ]
  },
  {
   "cell_type": "markdown",
   "metadata": {},
   "source": [
    "## Entropy\n",
    "\n",
    "__Entropy__ is a measure of chaos. It tells us how much information a _set_ $S$ carries. It is calculated using the following formula $$E(S) = -\\sum_{i \\in S} p_{i}\\log(p_{i})$$ where $p_{i}$ is the proportion of the $i$-th entry in $S.$\n",
    "\n",
    "To get some intuition how entropy works, consider a perfectly pure array $A = [1, 1, 1].$ Then $p_{1} = 1$ and $\\log p_{1} = 0.$ So the entropy of $A$ is $0.$ This is consistent with the fact that despite the size of $A$, it carries very little information - just a single value of 1.\n",
    "\n",
    "To contrast, let's consider an impure array $B = [1, 2, 3].$ Then $p_{i} = 1/3$ for $i \\in \\{1, 2, 3\\}$ and $\\log (1/3) = -1.58.$ So the entropy of $B$ is $4.74.$ This result is consistent with the fact that $B$ carries more information than $A$."
   ]
  },
  {
   "cell_type": "code",
   "execution_count": 15,
   "metadata": {},
   "outputs": [],
   "source": [
    "@np.vectorize\n",
    "def log2(x):\n",
    "    \"\"\"Compute the base 2 logarithm of `x`.\"\"\"\n",
    "    log_x = np.log(x) / np.log(2)\n",
    "    return log_x\n",
    "\n",
    "def entropy(array):\n",
    "    # Special case for an array of length 0\n",
    "    if len(array) == 0:\n",
    "        return 0\n",
    "    \n",
    "    probs = {}\n",
    "    for elem in array:\n",
    "        if elem in probs:\n",
    "            probs[elem] += 1 / len(array)\n",
    "        else:\n",
    "            probs[elem] = 1 / len(array)\n",
    "            \n",
    "    entropy = -np.sum(probs[elem] * log2(probs[elem]) for elem in probs)\n",
    "    \n",
    "    return entropy"
   ]
  },
  {
   "cell_type": "code",
   "execution_count": 16,
   "metadata": {},
   "outputs": [
    {
     "data": {
      "text/plain": [
       "0.9593652915824233"
      ]
     },
     "execution_count": 16,
     "metadata": {},
     "output_type": "execute_result"
    }
   ],
   "source": [
    "entropy(labels)"
   ]
  },
  {
   "cell_type": "markdown",
   "metadata": {},
   "source": [
    "## Information Gain\n",
    "\n",
    "Having defined a measure of purity of data, we now formalize what we mean when we say a that a feature carries information about a target. As we saw in the example above, __when a feature carries information about a target, splitting the data into groups based on this feature produces smaller sets of data that are more pure than the parent data set.__\n",
    "\n",
    "We formalize this notion by defining __Information Gain to be the difference between the entropy of the original data set and the weighted sum of the entropies of the groups.__"
   ]
  },
  {
   "cell_type": "code",
   "execution_count": 17,
   "metadata": {},
   "outputs": [],
   "source": [
    "def get_groups(df, targets, feature):\n",
    "    \"\"\"Build  target groups by splitting `targets` according to the values of `feature`.\"\"\"\n",
    "    values = df[feature].unique()\n",
    "    groups = []\n",
    "    for value in values:\n",
    "        group = targets[df[feature] == value]        \n",
    "        groups.append(group)\n",
    "        \n",
    "    return groups\n",
    "\n",
    "def information_gain(parent, groups):\n",
    "    \"\"\"Compute the information gain between `parent` and `groups`.\"\"\"\n",
    "    group_entropy = 0.\n",
    "    for group in groups:\n",
    "        purity = entropy(group)\n",
    "        proportion = len(group) / len(parent)\n",
    "        group_entropy += purity * proportion\n",
    "    \n",
    "    gain = entropy(parent) - group_entropy\n",
    "    \n",
    "    return gain"
   ]
  },
  {
   "cell_type": "code",
   "execution_count": 21,
   "metadata": {},
   "outputs": [],
   "source": [
    "# We can now compute the information gain with respect to each feature\n",
    "gains = {}\n",
    "for feature in features:    \n",
    "    groups = get_groups(features, labels, feature)\n",
    "    gain = information_gain(labels, groups)\n",
    "    gains[feature] = gain"
   ]
  },
  {
   "cell_type": "code",
   "execution_count": 22,
   "metadata": {},
   "outputs": [
    {
     "data": {
      "image/png": "[encoded data removed]",
      "text/plain": [
       "<matplotlib.figure.Figure at 0x918ec104a8>"
      ]
     },
     "metadata": {},
     "output_type": "display_data"
    }
   ],
   "source": [
    "plt.ylabel('IG')\n",
    "plt.xlabel('Feature')\n",
    "plt.title('Information Gain (by feature)')\n",
    "plt.bar(range(len(gains)), list(gains.values()), align='center')\n",
    "plt.xticks(range(len(gains)), list(gains.keys()))\n",
    "plt.show()"
   ]
  },
  {
   "cell_type": "markdown",
   "metadata": {},
   "source": [
    "We can see that _p.1 (ODOR)_ provides the most information about the target. By selecting the top $k$ features according to the information gain they provide, we reduce the dimension of the data set from $d$ to $k$."
   ]
  }
 ],
 "metadata": {
  "kernelspec": {
   "display_name": "Python 3",
   "language": "python",
   "name": "python3"
  },
  "language_info": {
   "codemirror_mode": {
    "name": "ipython",
    "version": 3
   },
   "file_extension": ".py",
   "mimetype": "text/x-python",
   "name": "python",
   "nbconvert_exporter": "python",
   "pygments_lexer": "ipython3",
   "version": "3.6.4"
  }
 },
 "nbformat": 4,
 "nbformat_minor": 2
}
