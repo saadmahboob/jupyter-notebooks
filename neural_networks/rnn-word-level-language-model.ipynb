{
 "cells": [
  {
   "cell_type": "markdown",
   "metadata": {},
   "source": [
    "# Search Token Prediction\n",
    "-----"
   ]
  },
  {
   "cell_type": "markdown",
   "metadata": {},
   "source": [
    "## Table of Contents:\n",
    "* [Data Cleaning and Preprocessing](#data-clean)\n",
    "    * [Bias and Noise](#data-bias)\n",
    "    * [Lemmatization](#data-lemma)\n",
    "    * [Encoding](#data-encoding)\n",
    "    * [Sequences](#model-sequences)\n",
    "* [Model](#model) \n",
    "    * [Architecture](#model-selection)\n",
    "    * [Loss Function](#model-loss)\n",
    "* [Future Work](#future)"
   ]
  },
  {
   "cell_type": "code",
   "execution_count": null,
   "metadata": {},
   "outputs": [],
   "source": [
    "import numpy as np\n",
    "import pandas as pd\n",
    "import tensorflow as tf\n",
    "import keras\n",
    "import nltk\n",
    "# Uncomment to download stopwords\n",
    "# nltk.download('stopwords')\n",
    "# Uncomment to download Lemmatizer related package\n",
    "# nltk.download('averaged_perceptron_tagger')\n",
    "# Uncomment to download wordnet\n",
    "# nltk.download('wordnet')\n",
    "import pickle\n",
    "import matplotlib as mt\n",
    "import matplotlib.pyplot as plt\n",
    "plt.style.use('classic')\n",
    "# Interactive Tools for Matplotlib\n",
    "%matplotlib notebook\n",
    "%matplotlib inline\n",
    "\n",
    "# from sklearn.manifold import TSNE\n",
    "from nltk.corpus import stopwords\n",
    "from nltk.stem import WordNetLemmatizer\n",
    "# map words to integers\n",
    "from sklearn.preprocessing import LabelEncoder"
   ]
  },
  {
   "cell_type": "markdown",
   "metadata": {},
   "source": [
    "## <a name=\"data-clean\"></a>Data Cleaning and Preprocessing\n",
    "-----------------------"
   ]
  },
  {
   "cell_type": "code",
   "execution_count": 6,
   "metadata": {},
   "outputs": [],
   "source": [
    "# Pre-saved and pre-trained models and data set.\n",
    "# If using these, skip to the section on `Prediction`.\n",
    "\n",
    "# Uncomment to load small sequence data. You can then skip to `Model` section.\n",
    "sequences = np.load('data/seqs/seq.np.npy')\n",
    "\n",
    "# Uncomment to load the preprocessed data set\n",
    "# df = pd.read_csv('data/processed.csv')\n",
    "\n",
    "# Uncomment to load the label encoder\n",
    "with open('models/tokenizer.p', 'rb') as f:\n",
    "    le = pickle.load(f)\n",
    "\n",
    "# Uncomment to load the language model\n",
    "# with open('models/language.p', 'rb') as f:\n",
    "#     model = pickle.load(f)"
   ]
  },
  {
   "cell_type": "code",
   "execution_count": 16,
   "metadata": {},
   "outputs": [],
   "source": [
    "# Load the data set. Consider lazy loading \n",
    "# due to the large file size\n",
    "df = pd.read_csv('data/search_log.csv')"
   ]
  },
  {
   "cell_type": "code",
   "execution_count": 3,
   "metadata": {},
   "outputs": [
    {
     "name": "stdout",
     "output_type": "stream",
     "text": [
      "<class 'pandas.core.frame.DataFrame'>\n",
      "RangeIndex: 103913566 entries, 0 to 103913565\n",
      "Data columns (total 3 columns):\n",
      "key       object\n",
      "time      int64\n",
      "userId    int64\n",
      "dtypes: int64(2), object(1)\n",
      "memory usage: 2.3+ GB\n"
     ]
    }
   ],
   "source": [
    "df.info()"
   ]
  },
  {
   "cell_type": "markdown",
   "metadata": {},
   "source": [
    "### <a name=\"data-bias\"></a>Bias and Noise"
   ]
  },
  {
   "cell_type": "code",
   "execution_count": 17,
   "metadata": {},
   "outputs": [],
   "source": [
    "# Drop data rows with undefined keys.\n",
    "# Note: As an alternative to dropping rows with undefined keys,\n",
    "#       we could try to impute the undefined values by sampling \n",
    "#       from the conditional (on userId) distribution of keys.\n",
    "df = df.dropna(subset=['key'])\n",
    "# In a general corpus of text, stopwords dominate\n",
    "# histogram counts, causing biased word frequency counts. \n",
    "# For this reason, we remove stopwords from language models.\n",
    "df = df[~df['key'].isin(stopwords.words('english'))]"
   ]
  },
  {
   "cell_type": "code",
   "execution_count": 5,
   "metadata": {},
   "outputs": [
    {
     "data": {
      "text/plain": [
       "key       False\n",
       "time      False\n",
       "userId    False\n",
       "dtype: bool"
      ]
     },
     "execution_count": 5,
     "metadata": {},
     "output_type": "execute_result"
    }
   ],
   "source": [
    "df.isnull().any()"
   ]
  },
  {
   "cell_type": "code",
   "execution_count": 6,
   "metadata": {},
   "outputs": [
    {
     "data": {
      "text/plain": [
       "<matplotlib.axes._subplots.AxesSubplot at 0xb857b64898>"
      ]
     },
     "execution_count": 6,
     "metadata": {},
     "output_type": "execute_result"
    },
    {
     "data": {
      "image/png": "[encoded data removed]",
      "text/plain": [
       "<matplotlib.figure.Figure at 0xb8580b21d0>"
      ]
     },
     "metadata": {},
     "output_type": "display_data"
    }
   ],
   "source": [
    "f, ax = plt.subplots(1, figsize=(16, 5))\n",
    "\n",
    "# Check for selection bias\n",
    "df['userId'].plot(kind='hist', ax=ax, title='Member Activity Frequency')"
   ]
  },
  {
   "cell_type": "markdown",
   "metadata": {},
   "source": [
    "* There is a clear bias towards one of the early members."
   ]
  },
  {
   "cell_type": "code",
   "execution_count": 7,
   "metadata": {},
   "outputs": [],
   "source": [
    "# Remove search tokens of outlier users\n",
    "counts = df.groupby(df.userId).count()"
   ]
  },
  {
   "cell_type": "code",
   "execution_count": 8,
   "metadata": {},
   "outputs": [
    {
     "data": {
      "text/html": [
       "<div>\n",
       "<style scoped>\n",
       "    .dataframe tbody tr th:only-of-type {\n",
       "        vertical-align: middle;\n",
       "    }\n",
       "\n",
       "    .dataframe tbody tr th {\n",
       "        vertical-align: top;\n",
       "    }\n",
       "\n",
       "    .dataframe thead th {\n",
       "        text-align: right;\n",
       "    }\n",
       "</style>\n",
       "<table border=\"1\" class=\"dataframe\">\n",
       "  <thead>\n",
       "    <tr style=\"text-align: right;\">\n",
       "      <th></th>\n",
       "      <th>key</th>\n",
       "      <th>time</th>\n",
       "    </tr>\n",
       "    <tr>\n",
       "      <th>userId</th>\n",
       "      <th></th>\n",
       "      <th></th>\n",
       "    </tr>\n",
       "  </thead>\n",
       "  <tbody>\n",
       "    <tr>\n",
       "      <th>1</th>\n",
       "      <td>19542524</td>\n",
       "      <td>19542524</td>\n",
       "    </tr>\n",
       "    <tr>\n",
       "      <th>1672434</th>\n",
       "      <td>29163</td>\n",
       "      <td>29163</td>\n",
       "    </tr>\n",
       "    <tr>\n",
       "      <th>198364</th>\n",
       "      <td>16264</td>\n",
       "      <td>16264</td>\n",
       "    </tr>\n",
       "    <tr>\n",
       "      <th>3655782</th>\n",
       "      <td>15806</td>\n",
       "      <td>15806</td>\n",
       "    </tr>\n",
       "    <tr>\n",
       "      <th>2890254</th>\n",
       "      <td>15182</td>\n",
       "      <td>15182</td>\n",
       "    </tr>\n",
       "  </tbody>\n",
       "</table>\n",
       "</div>"
      ],
      "text/plain": [
       "              key      time\n",
       "userId                     \n",
       "1        19542524  19542524\n",
       "1672434     29163     29163\n",
       "198364      16264     16264\n",
       "3655782     15806     15806\n",
       "2890254     15182     15182"
      ]
     },
     "execution_count": 8,
     "metadata": {},
     "output_type": "execute_result"
    }
   ],
   "source": [
    "counts = counts.sort_values(by='key', ascending=False)\n",
    "counts.head()"
   ]
  },
  {
   "cell_type": "markdown",
   "metadata": {},
   "source": [
    "User with id 1 has orders of magnitude more search queries than anyone else. This user is likely an automated system\n",
    "or a team of iternal developers running tests. We remove this row from the data set to avoid this bias."
   ]
  },
  {
   "cell_type": "code",
   "execution_count": 19,
   "metadata": {},
   "outputs": [],
   "source": [
    "df = df[df.userId != 1]"
   ]
  },
  {
   "cell_type": "markdown",
   "metadata": {},
   "source": [
    "### <a name=\"data-lemma\"></a>Lemmatization"
   ]
  },
  {
   "cell_type": "code",
   "execution_count": 20,
   "metadata": {},
   "outputs": [],
   "source": [
    "# Lemmatizing words bring them to a canonical form by factoring out the stem, \n",
    "# converting pos types (noun, verb, etc..) to a specified pos tag, as well \n",
    "# as lowering the cases.\n",
    "wnl = WordNetLemmatizer()\n",
    "pos_translate = {'J':'a', 'V':'v', 'N':'n', 'R':'r'}\n",
    "fn = lambda key: wnl.lemmatize(key, pos='n')\n",
    "df['key'] = df['key'].apply(fn)"
   ]
  },
  {
   "cell_type": "code",
   "execution_count": 12,
   "metadata": {},
   "outputs": [
    {
     "data": {
      "text/html": [
       "<div>\n",
       "<style scoped>\n",
       "    .dataframe tbody tr th:only-of-type {\n",
       "        vertical-align: middle;\n",
       "    }\n",
       "\n",
       "    .dataframe tbody tr th {\n",
       "        vertical-align: top;\n",
       "    }\n",
       "\n",
       "    .dataframe thead th {\n",
       "        text-align: right;\n",
       "    }\n",
       "</style>\n",
       "<table border=\"1\" class=\"dataframe\">\n",
       "  <thead>\n",
       "    <tr style=\"text-align: right;\">\n",
       "      <th></th>\n",
       "      <th>key</th>\n",
       "      <th>time</th>\n",
       "      <th>userId</th>\n",
       "    </tr>\n",
       "  </thead>\n",
       "  <tbody>\n",
       "    <tr>\n",
       "      <th>43794838</th>\n",
       "      <td>wings free</td>\n",
       "      <td>17406560</td>\n",
       "      <td>2000000</td>\n",
       "    </tr>\n",
       "    <tr>\n",
       "      <th>43794839</th>\n",
       "      <td>wing</td>\n",
       "      <td>17406617</td>\n",
       "      <td>2000000</td>\n",
       "    </tr>\n",
       "    <tr>\n",
       "      <th>43794840</th>\n",
       "      <td>wings free</td>\n",
       "      <td>17406984</td>\n",
       "      <td>2000000</td>\n",
       "    </tr>\n",
       "    <tr>\n",
       "      <th>43794841</th>\n",
       "      <td>butterfly wings</td>\n",
       "      <td>17407482</td>\n",
       "      <td>2000000</td>\n",
       "    </tr>\n",
       "    <tr>\n",
       "      <th>43794842</th>\n",
       "      <td>butterfly wings</td>\n",
       "      <td>17407556</td>\n",
       "      <td>2000000</td>\n",
       "    </tr>\n",
       "    <tr>\n",
       "      <th>43794843</th>\n",
       "      <td>wing</td>\n",
       "      <td>17409994</td>\n",
       "      <td>2000000</td>\n",
       "    </tr>\n",
       "    <tr>\n",
       "      <th>43794844</th>\n",
       "      <td>fairy wings</td>\n",
       "      <td>17410392</td>\n",
       "      <td>2000000</td>\n",
       "    </tr>\n",
       "    <tr>\n",
       "      <th>43794845</th>\n",
       "      <td>fairy wings</td>\n",
       "      <td>17437090</td>\n",
       "      <td>2000000</td>\n",
       "    </tr>\n",
       "    <tr>\n",
       "      <th>43794846</th>\n",
       "      <td>mermaid</td>\n",
       "      <td>17437185</td>\n",
       "      <td>2000000</td>\n",
       "    </tr>\n",
       "    <tr>\n",
       "      <th>43794847</th>\n",
       "      <td>mermaid</td>\n",
       "      <td>17437381</td>\n",
       "      <td>2000000</td>\n",
       "    </tr>\n",
       "  </tbody>\n",
       "</table>\n",
       "</div>"
      ],
      "text/plain": [
       "                      key      time   userId\n",
       "43794838       wings free  17406560  2000000\n",
       "43794839             wing  17406617  2000000\n",
       "43794840       wings free  17406984  2000000\n",
       "43794841  butterfly wings  17407482  2000000\n",
       "43794842  butterfly wings  17407556  2000000\n",
       "43794843             wing  17409994  2000000\n",
       "43794844      fairy wings  17410392  2000000\n",
       "43794845      fairy wings  17437090  2000000\n",
       "43794846          mermaid  17437185  2000000\n",
       "43794847          mermaid  17437381  2000000"
      ]
     },
     "execution_count": 12,
     "metadata": {},
     "output_type": "execute_result"
    }
   ],
   "source": [
    "df[df['userId'] == int(2e6)].sort_values(by='time').head(10)"
   ]
  },
  {
   "cell_type": "markdown",
   "metadata": {},
   "source": [
    "### <a name=\"data-encoding\"></a>Encoding"
   ]
  },
  {
   "cell_type": "code",
   "execution_count": 21,
   "metadata": {},
   "outputs": [
    {
     "data": {
      "text/html": [
       "<div>\n",
       "<style scoped>\n",
       "    .dataframe tbody tr th:only-of-type {\n",
       "        vertical-align: middle;\n",
       "    }\n",
       "\n",
       "    .dataframe tbody tr th {\n",
       "        vertical-align: top;\n",
       "    }\n",
       "\n",
       "    .dataframe thead th {\n",
       "        text-align: right;\n",
       "    }\n",
       "</style>\n",
       "<table border=\"1\" class=\"dataframe\">\n",
       "  <thead>\n",
       "    <tr style=\"text-align: right;\">\n",
       "      <th></th>\n",
       "      <th>key</th>\n",
       "      <th>time</th>\n",
       "      <th>userId</th>\n",
       "      <th>embedding</th>\n",
       "    </tr>\n",
       "  </thead>\n",
       "  <tbody>\n",
       "    <tr>\n",
       "      <th>19563559</th>\n",
       "      <td>heart</td>\n",
       "      <td>41369281</td>\n",
       "      <td>2</td>\n",
       "      <td>969498</td>\n",
       "    </tr>\n",
       "    <tr>\n",
       "      <th>19563560</th>\n",
       "      <td>heart</td>\n",
       "      <td>41369388</td>\n",
       "      <td>2</td>\n",
       "      <td>969498</td>\n",
       "    </tr>\n",
       "    <tr>\n",
       "      <th>19563561</th>\n",
       "      <td>heart</td>\n",
       "      <td>41369687</td>\n",
       "      <td>2</td>\n",
       "      <td>969498</td>\n",
       "    </tr>\n",
       "    <tr>\n",
       "      <th>19563562</th>\n",
       "      <td>heart</td>\n",
       "      <td>41369765</td>\n",
       "      <td>2</td>\n",
       "      <td>969498</td>\n",
       "    </tr>\n",
       "    <tr>\n",
       "      <th>19563563</th>\n",
       "      <td>heart</td>\n",
       "      <td>41369822</td>\n",
       "      <td>2</td>\n",
       "      <td>969498</td>\n",
       "    </tr>\n",
       "  </tbody>\n",
       "</table>\n",
       "</div>"
      ],
      "text/plain": [
       "            key      time  userId  embedding\n",
       "19563559  heart  41369281       2     969498\n",
       "19563560  heart  41369388       2     969498\n",
       "19563561  heart  41369687       2     969498\n",
       "19563562  heart  41369765       2     969498\n",
       "19563563  heart  41369822       2     969498"
      ]
     },
     "execution_count": 21,
     "metadata": {},
     "output_type": "execute_result"
    }
   ],
   "source": [
    "# Generate a mapping from word to integer\n",
    "# e.g. f('hello') -> 1\n",
    "le = LabelEncoder()\n",
    "df['embedding'] = le.fit_transform(df['key'])\n",
    "# Uncomment to save the tokenizer\n",
    "# with open('models/tokenizer.p', 'wb') as f:\n",
    "#     pickle.dump(le, f)\n",
    "df.head()"
   ]
  },
  {
   "cell_type": "code",
   "execution_count": 22,
   "metadata": {},
   "outputs": [
    {
     "name": "stdout",
     "output_type": "stream",
     "text": [
      "<class 'pandas.core.frame.DataFrame'>\n",
      "Int64Index: 84260377 entries, 19563559 to 103913565\n",
      "Data columns (total 3 columns):\n",
      "time         int64\n",
      "userId       int64\n",
      "embedding    int64\n",
      "dtypes: int64(3)\n",
      "memory usage: 2.5 GB\n"
     ]
    }
   ],
   "source": [
    "# Having a trained encoder for words,\n",
    "# we can safely delete the `key` column from the data set.\n",
    "if 'key' in df.columns:\n",
    "    df = df.drop('key', axis=1)\n",
    "df.info()"
   ]
  },
  {
   "cell_type": "code",
   "execution_count": 23,
   "metadata": {},
   "outputs": [],
   "source": [
    "# Uncomment to save the preprocessed data set.\n",
    "# df.to_csv('data/processed.csv')"
   ]
  },
  {
   "cell_type": "markdown",
   "metadata": {},
   "source": [
    "### <a name=\"model-sequences\"></a>Sequences\n",
    "\n",
    "A key design decision is how long the input sequences should be. They need to be long enough to allow the model to learn the context for the words to predict. We will use sequences of length 50.\n",
    "\n",
    "**Note: The number of generated sequences will be very large, and a much better idea is to store it using the [HDF5](https://support.hdfgroup.org/HDF5/) format. For the sake of this example, we sample user data.**"
   ]
  },
  {
   "cell_type": "code",
   "execution_count": null,
   "metadata": {},
   "outputs": [],
   "source": [
    "# Sequences length \n",
    "seq_length = 50\n",
    "# number of sampled users\n",
    "N = 100\n",
    "idx = np.random.choice(np.arange(df['userId'].median(),df['userId'].max()), size=N, replace=False)\n",
    "idx = idx.astype(int)"
   ]
  },
  {
   "cell_type": "code",
   "execution_count": 5,
   "metadata": {},
   "outputs": [
    {
     "name": "stdout",
     "output_type": "stream",
     "text": [
      "Total Sequences: 1270\n"
     ]
    }
   ],
   "source": [
    "sequences = []\n",
    "# sample users\n",
    "tokens = df[df['userId'].isin(idx)]\n",
    "\n",
    "tokens = tokens.sort_values(by='time')\n",
    "groups = tokens.groupby('userId')\n",
    "\n",
    "for id, group in groups:\n",
    "    # organize into sequences of tokens\n",
    "    for i in range(seq_length+1, len(group)):\n",
    "        # select sequence of tokens\n",
    "        seq = group['embedding'].iloc[i-seq_length:i].values\n",
    "        # store\n",
    "        sequences.append(seq)\n",
    "\n",
    "# Uncomment to save the sequences\n",
    "# np.save('data/seqs/seq.np', sequences)      \n",
    "\n",
    "print('Total Sequences: %d' % len(sequences))\n",
    "\n",
    "sequences = np.array(sequences)"
   ]
  },
  {
   "cell_type": "markdown",
   "metadata": {},
   "source": [
    "## <a name=\"model\"></a>Model\n",
    "----"
   ]
  },
  {
   "cell_type": "code",
   "execution_count": 3,
   "metadata": {},
   "outputs": [],
   "source": [
    "from keras.models import Model, Sequential\n",
    "from keras.layers import GRU, Dense\n",
    "from keras.layers import Input, LSTM, Dense, Embedding\n",
    "from keras.optimizers import Adam"
   ]
  },
  {
   "cell_type": "markdown",
   "metadata": {},
   "source": [
    "### <a name=\"model-selection\"></a>Architecture"
   ]
  },
  {
   "cell_type": "markdown",
   "metadata": {},
   "source": [
    "We will use a sequence to word model that learns a conditional distribution\n",
    "of a word given a sequence of previous words.\n",
    "\n",
    "$$P(w_{N}\\mid w_{N-1}, w_{N-2}, ..., w_{N-m}) = f(w_{N-1}, w_{N-2}, ..., w_{N-m})$$\n",
    "\n",
    "The predicted word will be fed in as input to in turn generate the next word.\n",
    "\n",
    "The model we will train is a neural language model. It has a few unique characteristics:\n",
    "\n",
    "* It uses a distributed representation for words so that different words with similar meanings will have a similar representation.\n",
    "* It learns the representation at the same time as learning the model.\n",
    "* It learns to predict the probability for the next word using a context of previous words.\n",
    "* Specifically, we will use an Embedding Layer to learn the representation of words, and a Long Short-Term Memory (LSTM) recurrent neural network to learn to predict words based on their context."
   ]
  },
  {
   "cell_type": "code",
   "execution_count": 14,
   "metadata": {},
   "outputs": [
    {
     "name": "stdout",
     "output_type": "stream",
     "text": [
      "_________________________________________________________________\n",
      "Layer (type)                 Output Shape              Param #   \n",
      "=================================================================\n",
      "embedding_2 (Embedding)      (None, 49, 50)            118679850 \n",
      "_________________________________________________________________\n",
      "lstm_3 (LSTM)                (None, 49, 100)           60400     \n",
      "_________________________________________________________________\n",
      "lstm_4 (LSTM)                (None, 100)               80400     \n",
      "_________________________________________________________________\n",
      "dense_2 (Dense)              (None, 2373596)           239733196 \n",
      "=================================================================\n",
      "Total params: 358,553,846\n",
      "Trainable params: 358,553,846\n",
      "Non-trainable params: 0\n",
      "_________________________________________________________________\n",
      "None\n"
     ]
    }
   ],
   "source": [
    "def build_rnn(embedding_shape,\n",
    "              Cell=GRU, \n",
    "              Layers=1,\n",
    "              Dropout=0.,\n",
    "              Hidden=25,\n",
    "              outdim=1,\n",
    "              activation=\"softmax\"):\n",
    "    \"\"\"\n",
    "    Constructor for a multilayer recurrent network.\n",
    "    \n",
    "    :params embedding_shape tuple: (vocab_size, out_dim, seq_length)\n",
    "    :params Cell str: Type of cell unit used in the model (gru, lstm...)\n",
    "    :params Layers int: The number of hidden recurrent layers\n",
    "    :params Dropout float: Probability of Dropout [0; 1]\n",
    "    :params outdim int: dimension of output data. Default (1) regresses to \n",
    "                        a single value.\n",
    "    :param activation str: final activation layer type (e.g. \"linear\")\n",
    "    \"\"\"\n",
    "    \n",
    "    model = Sequential()\n",
    "    # Start with an embedding layer to convert sparse word vectors to dense ones.\n",
    "    vocab_size, out_dim, seq_length = embedding_shape\n",
    "    model.add(Embedding(vocab_size, out_dim, input_length=seq_length))\n",
    "    \n",
    "    # If the model has more than one recurrent layer,\n",
    "    # output all the sequences (not just the final one).\n",
    "    if Layers > 1:\n",
    "        return_sequences = True\n",
    "    else:\n",
    "        return_sequences = False\n",
    "        \n",
    "    # The first layer requires `input_shape` to be specified.\n",
    "    model.add(Cell(Hidden, \n",
    "                   return_sequences=return_sequences,\n",
    "                   # input_shape=input_shape,\n",
    "                   dropout=Dropout,\n",
    "                   recurrent_dropout=Dropout))\n",
    "\n",
    "    # Input shapes are inferred in the subsequent layers\n",
    "    for layer in range(Layers - 1):\n",
    "        # Make sure the final hidden layer does not output all the sequences.\n",
    "        if layer == Layers - 2:\n",
    "            return_sequences = False\n",
    "        model.add(Cell(Hidden,\n",
    "                       return_sequences=return_sequences, \n",
    "                       dropout=Dropout,\n",
    "                       recurrent_dropout=Dropout))\n",
    "    \n",
    "    # Add a final dense layer\n",
    "    model.add(Dense(outdim, activation=activation))\n",
    "    \n",
    "    return model\n",
    "\n",
    "\n",
    "embedding_shape = (len(le.classes_)+1, 50, seq_length)\n",
    "model = build_rnn(\n",
    "    embedding_shape=embedding_shape,\n",
    "    Cell=LSTM,\n",
    "    Layers=2,\n",
    "    # Ensure that model has enough capacity first\n",
    "    Dropout=0.,\n",
    "    Hidden=100,\n",
    "    outdim=len(le.classes_)\n",
    ")\n",
    "\n",
    "print(model.summary())"
   ]
  },
  {
   "cell_type": "code",
   "execution_count": 15,
   "metadata": {},
   "outputs": [],
   "source": [
    "# separate into input and output\n",
    "X, y = sequences[:,:-1], sequences[:,-1]\n",
    "y = keras.utils.to_categorical(y, num_classes=len(le.classes_))\n",
    "seq_length = X.shape[1]"
   ]
  },
  {
   "cell_type": "markdown",
   "metadata": {},
   "source": [
    "### <a name=\"model-loss\"></a>Loss Function (example run)\n",
    "\n",
    "Since the model learns a conditional probability distribution, we will **categorical cross-entropy** as the measure of loss."
   ]
  },
  {
   "cell_type": "code",
   "execution_count": 16,
   "metadata": {},
   "outputs": [
    {
     "name": "stdout",
     "output_type": "stream",
     "text": [
      "Epoch 1/1\n",
      "1270/1270 [==============================] - 570s 449ms/step - loss: 14.6719 - acc: 0.0890\n"
     ]
    },
    {
     "data": {
      "text/plain": [
       "<keras.callbacks.History at 0x8102e6c6a0>"
      ]
     },
     "execution_count": 16,
     "metadata": {},
     "output_type": "execute_result"
    }
   ],
   "source": [
    "# compile model\n",
    "model.compile(\n",
    "    loss='categorical_crossentropy', \n",
    "    # Use tensorflow optimizers to avoid the conversion from sparse\n",
    "    # gradients to dense gradients due the Embedding layer. This can\n",
    "    # have a devastating effect on performance.\n",
    "    optimizer=tf.train.AdamOptimizer(), metrics=['accuracy'])\n",
    "# fit model\n",
    "model.fit(X, y, batch_size=128, epochs=1)"
   ]
  },
  {
   "cell_type": "markdown",
   "metadata": {},
   "source": [
    "## <a name=\"future\"></a>Future Work\n",
    "---------------\n",
    "\n",
    "* Split the `keys` with more than one word into separate entries.\n",
    "* Experiment with more (fewer) number of recurrent layers.\n",
    "* Experiment with type of recurrent layers (GRU, etc...).\n",
    "* Use sklearn's `GridSearchCV` to tune hyperparameters (learning rate, etc...).\n",
    "* Use sklearn's `TimeSeriesSplit` to cross validate the time series data.\n",
    "* Run a full training session (with all the sequneces) on a GPU powered Amazon EC2 cluster.\n",
    "* Compare the performance of the recurrent neural network to an ARIMA model."
   ]
  }
 ],
 "metadata": {
  "kernelspec": {
   "display_name": "Python 3",
   "language": "python",
   "name": "python3"
  },
  "language_info": {
   "codemirror_mode": {
    "name": "ipython",
    "version": 3
   },
   "file_extension": ".py",
   "mimetype": "text/x-python",
   "name": "python",
   "nbconvert_exporter": "python",
   "pygments_lexer": "ipython3",
   "version": "3.6.4"
  }
 },
 "nbformat": 4,
 "nbformat_minor": 2
}
